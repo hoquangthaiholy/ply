{
  "nbformat": 4,
  "nbformat_minor": 0,
  "metadata": {
    "colab": {
      "provenance": [],
      "authorship_tag": "ABX9TyOVhIJ4P1RClACcyX9Ei9Lv",
      "include_colab_link": true
    },
    "kernelspec": {
      "name": "python3",
      "display_name": "Python 3"
    },
    "language_info": {
      "name": "python"
    }
  },
  "cells": [
    {
      "cell_type": "markdown",
      "metadata": {
        "id": "view-in-github",
        "colab_type": "text"
      },
      "source": [
        "<a href=\"https://colab.research.google.com/github/hoquangthaiholy/ply/blob/master/Demonstration.ipynb\" target=\"_parent\"><img src=\"https://colab.research.google.com/assets/colab-badge.svg\" alt=\"Open In Colab\"/></a>"
      ]
    },
    {
      "cell_type": "markdown",
      "source": [
        "#Installation"
      ],
      "metadata": {
        "id": "m_E4jrpa34o7"
      }
    },
    {
      "cell_type": "code",
      "execution_count": 1,
      "metadata": {
        "colab": {
          "base_uri": "https://localhost:8080/"
        },
        "id": "AowNs2PtFnTD",
        "outputId": "51bed544-2c8e-4da5-fea6-1ab2d4c78866"
      },
      "outputs": [
        {
          "output_type": "stream",
          "name": "stdout",
          "text": [
            "Cloning into 'ply'...\n",
            "remote: Enumerating objects: 2021, done.\u001b[K\n",
            "remote: Counting objects: 100% (143/143), done.\u001b[K\n",
            "remote: Compressing objects: 100% (107/107), done.\u001b[K\n",
            "remote: Total 2021 (delta 66), reused 81 (delta 30), pack-reused 1878\u001b[K\n",
            "Receiving objects: 100% (2021/2021), 1.09 MiB | 14.35 MiB/s, done.\n",
            "Resolving deltas: 100% (1243/1243), done.\n",
            "/content/ply\n",
            "python3 -m pip install .\n",
            "Looking in indexes: https://pypi.org/simple, https://us-python.pkg.dev/colab-wheels/public/simple/\n",
            "Processing /content/ply\n",
            "\u001b[33m  DEPRECATION: A future pip version will change local packages to be built in-place without first copying to a temporary directory. We recommend you use --use-feature=in-tree-build to test your packages with this new behavior before it becomes the default.\n",
            "   pip 21.3 will remove support for this functionality. You can find discussion regarding this at https://github.com/pypa/pip/issues/7555.\u001b[0m\n",
            "  Installing build dependencies ... \u001b[?25l\u001b[?25hdone\n",
            "  Getting requirements to build wheel ... \u001b[?25l\u001b[?25hdone\n",
            "    Preparing wheel metadata ... \u001b[?25l\u001b[?25hdone\n",
            "Building wheels for collected packages: ply\n",
            "  Building wheel for ply (PEP 517) ... \u001b[?25l\u001b[?25hdone\n",
            "  Created wheel for ply: filename=ply-2022.10.27-py3-none-any.whl size=32934 sha256=9f3ba5640ccbf7c69b0282f48f391fe8020c7e8e54844c4da77820c308b72577\n",
            "  Stored in directory: /tmp/pip-ephem-wheel-cache-1hwaf5kp/wheels/7f/cd/70/3d01d0342bebc0ba7410aa1bc1f24c89893569bc05366f2209\n",
            "Successfully built ply\n",
            "Installing collected packages: ply\n",
            "Successfully installed ply-2022.10.27\n",
            "/content\n"
          ]
        }
      ],
      "source": [
        "!git clone https://github.com/hoquangthaiholy/ply.git\n",
        "%cd ply\n",
        "!make install\n",
        "%cd ..\n",
        "\n",
        "# Fix Interactive Mode\n",
        "__file__ = '/content'"
      ]
    },
    {
      "cell_type": "markdown",
      "source": [
        "#Lex and Yacc Example"
      ],
      "metadata": {
        "id": "_Jdwo83i39th"
      }
    },
    {
      "cell_type": "code",
      "source": [
        "# -----------------------------------------------------------------------------\n",
        "# example.py\n",
        "#\n",
        "# Example of using PLY To parse the following simple grammar.\n",
        "#\n",
        "#   expression : term PLUS term\n",
        "#              | term MINUS term\n",
        "#              | term\n",
        "#\n",
        "#   term       : factor TIMES factor\n",
        "#              | factor DIVIDE factor\n",
        "#              | factor\n",
        "#\n",
        "#   factor     : NUMBER\n",
        "#              | NAME\n",
        "#              | PLUS factor\n",
        "#              | MINUS factor\n",
        "#              | LPAREN expression RPAREN\n",
        "#\n",
        "# -----------------------------------------------------------------------------\n",
        "\n",
        "from ply import lex\n",
        "from ply import yacc\n",
        "\n",
        "# --- Tokenizer\n",
        "\n",
        "# All tokens must be named in advance.\n",
        "tokens = ( 'PLUS', 'MINUS', 'TIMES', 'DIVIDE', 'LPAREN', 'RPAREN',\n",
        "           'NAME', 'NUMBER' )\n",
        "\n",
        "# Ignored characters\n",
        "t_ignore = ' \\t'\n",
        "\n",
        "# Token matching rules are written as regexs\n",
        "t_PLUS = r'\\+'\n",
        "t_MINUS = r'-'\n",
        "t_TIMES = r'\\*'\n",
        "t_DIVIDE = r'/'\n",
        "t_LPAREN = r'\\('\n",
        "t_RPAREN = r'\\)'\n",
        "t_NAME = r'[a-zA-Z_][a-zA-Z0-9_]*'\n",
        "\n",
        "# A function can be used if there is an associated action.\n",
        "# Write the matching regex in the docstring.\n",
        "def t_NUMBER(t):\n",
        "    r'\\d+'\n",
        "    t.value = int(t.value)\n",
        "    return t\n",
        "\n",
        "# Ignored token with an action associated with it\n",
        "def t_ignore_newline(t):\n",
        "    r'\\n+'\n",
        "    t.lexer.lineno += t.value.count('\\n')\n",
        "\n",
        "# Error handler for illegal characters\n",
        "def t_error(t):\n",
        "    print(f'Illegal character {t.value[0]!r}')\n",
        "    t.lexer.skip(1)\n",
        "\n",
        "# Build the lexer object\n",
        "lexer = lex.lex()\n",
        "    \n",
        "# --- Parser\n",
        "\n",
        "# Write functions for each grammar rule which is\n",
        "# specified in the docstring.\n",
        "def p_expression(p):\n",
        "    '''\n",
        "    expression : term PLUS term\n",
        "               | term MINUS term\n",
        "    '''\n",
        "    # p is a sequence that represents rule contents.\n",
        "    #\n",
        "    # expression : term PLUS term\n",
        "    #   p[0]     : p[1] p[2] p[3]\n",
        "    # \n",
        "    p[0] = ('binop', p[2], p[1], p[3])\n",
        "\n",
        "def p_expression_term(p):\n",
        "    '''\n",
        "    expression : term\n",
        "    '''\n",
        "    p[0] = p[1]\n",
        "\n",
        "def p_term(p):\n",
        "    '''\n",
        "    term : factor TIMES factor\n",
        "         | factor DIVIDE factor\n",
        "    '''\n",
        "    p[0] = ('binop', p[2], p[1], p[3])\n",
        "\n",
        "def p_term_factor(p):\n",
        "    '''\n",
        "    term : factor\n",
        "    '''\n",
        "    p[0] = p[1]\n",
        "\n",
        "def p_factor_number(p):\n",
        "    '''\n",
        "    factor : NUMBER\n",
        "    '''\n",
        "    p[0] = ('number', p[1])\n",
        "\n",
        "def p_factor_name(p):\n",
        "    '''\n",
        "    factor : NAME\n",
        "    '''\n",
        "    p[0] = ('name', p[1])\n",
        "\n",
        "def p_factor_unary(p):\n",
        "    '''\n",
        "    factor : PLUS factor\n",
        "           | MINUS factor\n",
        "    '''\n",
        "    p[0] = ('unary', p[1], p[2])\n",
        "\n",
        "def p_factor_grouped(p):\n",
        "    '''\n",
        "    factor : LPAREN expression RPAREN\n",
        "    '''\n",
        "    p[0] = ('grouped', p[2])\n",
        "\n",
        "def p_error(p):\n",
        "    print(f'Syntax error at {p.value!r}')\n",
        "\n",
        "# Build the parser\n",
        "parser = yacc.yacc()\n",
        "\n",
        "# Parse an expression\n",
        "ast = parser.parse('2 * 3 + 4 * (5 - x)')\n",
        "print(ast)"
      ],
      "metadata": {
        "colab": {
          "base_uri": "https://localhost:8080/"
        },
        "id": "VRdeMqSQGvMv",
        "outputId": "e0996910-2e85-4fa9-a792-0976c1c4f0f2"
      },
      "execution_count": 2,
      "outputs": [
        {
          "output_type": "stream",
          "name": "stdout",
          "text": [
            "('binop', '+', ('binop', '*', ('number', 2), ('number', 3)), ('binop', '*', ('number', 4), ('grouped', ('binop', '-', ('number', 5), ('name', 'x')))))\n"
          ]
        }
      ]
    },
    {
      "cell_type": "markdown",
      "source": [
        "#Other examples"
      ],
      "metadata": {
        "id": "uuYhWshj4Fge"
      }
    },
    {
      "cell_type": "code",
      "source": [
        "%cd ply/example/"
      ],
      "metadata": {
        "colab": {
          "base_uri": "https://localhost:8080/"
        },
        "id": "YKMyNfU4mZcs",
        "outputId": "69553dbd-8e09-4e33-e93d-1a1a3c9d61b1"
      },
      "execution_count": 3,
      "outputs": [
        {
          "output_type": "stream",
          "name": "stdout",
          "text": [
            "/content/ply/example\n"
          ]
        }
      ]
    },
    {
      "cell_type": "code",
      "source": [
        "!cat BASIC/hello.bas"
      ],
      "metadata": {
        "colab": {
          "base_uri": "https://localhost:8080/"
        },
        "id": "I0aUYB1g5I3h",
        "outputId": "ede4e62d-2ea4-4a2c-9eed-e6300aadbe42"
      },
      "execution_count": 9,
      "outputs": [
        {
          "output_type": "stream",
          "name": "stdout",
          "text": [
            "5  REM HELLO WORLD PROGAM\n",
            "10 PRINT \"HELLO WORLD\"\n",
            "99 END\n",
            "\n"
          ]
        }
      ]
    },
    {
      "cell_type": "code",
      "source": [
        "!python BASIC/basic.py BASIC/hello.bas"
      ],
      "metadata": {
        "colab": {
          "base_uri": "https://localhost:8080/"
        },
        "id": "kUmVPrVlhw95",
        "outputId": "18413a67-189f-4f78-fae5-dc3c58e1c138"
      },
      "execution_count": 5,
      "outputs": [
        {
          "output_type": "stream",
          "name": "stdout",
          "text": [
            "HELLO WORLD\n"
          ]
        }
      ]
    },
    {
      "cell_type": "code",
      "source": [
        "!cat BASIC/gcd.bas"
      ],
      "metadata": {
        "colab": {
          "base_uri": "https://localhost:8080/"
        },
        "id": "xCJ44H9Y6KMq",
        "outputId": "a74e346c-b642-4ea5-b0bc-197a83e6c55c"
      },
      "execution_count": 10,
      "outputs": [
        {
          "output_type": "stream",
          "name": "stdout",
          "text": [
            "10 PRINT \"A\",\"B\",\"C\",\"GCD\"\n",
            "20 READ A,B,C\n",
            "30 LET X = A\n",
            "40 LET Y = B\n",
            "50 GOSUB 200\n",
            "60 LET X = G\n",
            "70 LET Y = C\n",
            "80 GOSUB 200\n",
            "90 PRINT A, B, C, G\n",
            "100 GOTO 20\n",
            "110 DATA 60, 90, 120\n",
            "120 DATA 38456, 64872, 98765\n",
            "130 DATA 32, 384, 72\n",
            "200 LET Q = INT(X/Y)\n",
            "210 LET R = X - Q*Y\n",
            "220 IF R = 0 THEN 300\n",
            "230 LET X = Y\n",
            "240 LET Y = R\n",
            "250 GOTO 200\n",
            "300 LET G = Y\n",
            "310 RETURN\n",
            "999 END\n"
          ]
        }
      ]
    },
    {
      "cell_type": "code",
      "source": [
        "!python BASIC/basic.py BASIC/gcd.bas"
      ],
      "metadata": {
        "colab": {
          "base_uri": "https://localhost:8080/"
        },
        "id": "-Z1p_qGVmOr_",
        "outputId": "de685544-d1b0-470d-8f66-5cfc5339ca7e"
      },
      "execution_count": 6,
      "outputs": [
        {
          "output_type": "stream",
          "name": "stdout",
          "text": [
            "A              B              C              GCD\n",
            "60             90             120            30\n",
            "38456          64872          98765          1\n",
            "32             384            72             8\n"
          ]
        }
      ]
    },
    {
      "cell_type": "code",
      "source": [
        "!cat BASIC/powers.bas"
      ],
      "metadata": {
        "colab": {
          "base_uri": "https://localhost:8080/"
        },
        "id": "rE1f7ZWz6NyK",
        "outputId": "8358b66e-b462-4af0-eff5-7ffbd6e1ccf1"
      },
      "execution_count": 11,
      "outputs": [
        {
          "output_type": "stream",
          "name": "stdout",
          "text": [
            "5 PRINT \"THIS PROGRAM COMPUTES AND PRINTS THE NTH POWERS\"\n",
            "6 PRINT \"OF THE NUMBERS LESS THAN OR EQUAL TO N FOR VARIOUS\"\n",
            "7 PRINT \"N FROM 1 THROUGH 7\"\n",
            "8 PRINT\n",
            "10 FOR N = 1 TO 7\n",
            "15 PRINT \"N = \"N\n",
            "20 FOR I = 1 TO N\n",
            "30 PRINT I^N,\n",
            "40 NEXT I\n",
            "50 PRINT\n",
            "60 PRINT\n",
            "70 NEXT N\n",
            "80 END\n"
          ]
        }
      ]
    },
    {
      "cell_type": "code",
      "source": [
        "!python BASIC/basic.py BASIC/powers.bas"
      ],
      "metadata": {
        "colab": {
          "base_uri": "https://localhost:8080/"
        },
        "id": "MxFO0kiJp4ev",
        "outputId": "d5cc2c3e-ee47-442c-94d6-912808e12dcb"
      },
      "execution_count": 7,
      "outputs": [
        {
          "output_type": "stream",
          "name": "stdout",
          "text": [
            "THIS PROGRAM COMPUTES AND PRINTS THE NTH POWERS\n",
            "OF THE NUMBERS LESS THAN OR EQUAL TO N FOR VARIOUS\n",
            "N FROM 1 THROUGH 7\n",
            "\n",
            "N =  1\n",
            "1              \n",
            "\n",
            "N =  2\n",
            "1              4              \n",
            "\n",
            "N =  3\n",
            "1              8              27             \n",
            "\n",
            "N =  4\n",
            "1              16             81             256            \n",
            "\n",
            "N =  5\n",
            "1              32             243            1024           3125           \n",
            "\n",
            "N =  6\n",
            "1              64             729            4096           15625          46656          \n",
            "\n",
            "N =  7\n",
            "1              128            2187           16384          78125          279936         823543         \n",
            "\n"
          ]
        }
      ]
    },
    {
      "cell_type": "code",
      "source": [
        "!cat BASIC/func.bas"
      ],
      "metadata": {
        "colab": {
          "base_uri": "https://localhost:8080/"
        },
        "id": "p-SfCRP66XjK",
        "outputId": "98a17c13-da53-462a-ebc2-8a0de867ecda"
      },
      "execution_count": 12,
      "outputs": [
        {
          "output_type": "stream",
          "name": "stdout",
          "text": [
            "10 DEF FDX(X) = 2*X\n",
            "20 FOR I = 0 TO 100\n",
            "30 PRINT FDX(I)\n",
            "40 NEXT I\n",
            "50 END\n"
          ]
        }
      ]
    },
    {
      "cell_type": "code",
      "source": [
        "!python BASIC/basic.py BASIC/func.bas"
      ],
      "metadata": {
        "colab": {
          "base_uri": "https://localhost:8080/"
        },
        "id": "EYmXA_yd6cEp",
        "outputId": "2d05a84e-382e-4d28-84b8-aab597f4bab6"
      },
      "execution_count": 13,
      "outputs": [
        {
          "output_type": "stream",
          "name": "stdout",
          "text": [
            "0\n",
            "2\n",
            "4\n",
            "6\n",
            "8\n",
            "10\n",
            "12\n",
            "14\n",
            "16\n",
            "18\n",
            "20\n",
            "22\n",
            "24\n",
            "26\n",
            "28\n",
            "30\n",
            "32\n",
            "34\n",
            "36\n",
            "38\n",
            "40\n",
            "42\n",
            "44\n",
            "46\n",
            "48\n",
            "50\n",
            "52\n",
            "54\n",
            "56\n",
            "58\n",
            "60\n",
            "62\n",
            "64\n",
            "66\n",
            "68\n",
            "70\n",
            "72\n",
            "74\n",
            "76\n",
            "78\n",
            "80\n",
            "82\n",
            "84\n",
            "86\n",
            "88\n",
            "90\n",
            "92\n",
            "94\n",
            "96\n",
            "98\n",
            "100\n",
            "102\n",
            "104\n",
            "106\n",
            "108\n",
            "110\n",
            "112\n",
            "114\n",
            "116\n",
            "118\n",
            "120\n",
            "122\n",
            "124\n",
            "126\n",
            "128\n",
            "130\n",
            "132\n",
            "134\n",
            "136\n",
            "138\n",
            "140\n",
            "142\n",
            "144\n",
            "146\n",
            "148\n",
            "150\n",
            "152\n",
            "154\n",
            "156\n",
            "158\n",
            "160\n",
            "162\n",
            "164\n",
            "166\n",
            "168\n",
            "170\n",
            "172\n",
            "174\n",
            "176\n",
            "178\n",
            "180\n",
            "182\n",
            "184\n",
            "186\n",
            "188\n",
            "190\n",
            "192\n",
            "194\n",
            "196\n",
            "198\n",
            "200\n"
          ]
        }
      ]
    },
    {
      "cell_type": "code",
      "source": [
        "!cat BASIC/rand.bas"
      ],
      "metadata": {
        "colab": {
          "base_uri": "https://localhost:8080/"
        },
        "id": "2hr4NoyZ6h1-",
        "outputId": "08dd69ee-e55f-46f6-8d15-1b40a6dc4816"
      },
      "execution_count": 14,
      "outputs": [
        {
          "output_type": "stream",
          "name": "stdout",
          "text": [
            "10 FOR I = 1 TO 20\n",
            "20 PRINT INT(10*RND(0))\n",
            "30 NEXT I\n",
            "40 END\n"
          ]
        }
      ]
    },
    {
      "cell_type": "code",
      "source": [
        "!python BASIC/basic.py BASIC/rand.bas"
      ],
      "metadata": {
        "colab": {
          "base_uri": "https://localhost:8080/"
        },
        "id": "5LCgajTs6kLJ",
        "outputId": "b6f8d748-e713-4043-f759-9bb4f4f3f2a9"
      },
      "execution_count": 15,
      "outputs": [
        {
          "output_type": "stream",
          "name": "stdout",
          "text": [
            "5\n",
            "8\n",
            "6\n",
            "7\n",
            "9\n",
            "7\n",
            "9\n",
            "6\n",
            "0\n",
            "7\n",
            "6\n",
            "7\n",
            "1\n",
            "0\n",
            "0\n",
            "6\n",
            "1\n",
            "7\n",
            "3\n",
            "7\n"
          ]
        }
      ]
    }
  ]
}